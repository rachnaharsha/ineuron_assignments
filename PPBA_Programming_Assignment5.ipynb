{
 "cells": [
  {
   "cell_type": "markdown",
   "id": "7b4ceb21",
   "metadata": {},
   "source": [
    "# Python Programming Basic Assignment \n",
    "\n",
    "### 1. Write a Python Program to Find LCM?\n"
   ]
  },
  {
   "cell_type": "code",
   "execution_count": 1,
   "id": "388ca9d0",
   "metadata": {},
   "outputs": [
    {
     "name": "stdout",
     "output_type": "stream",
     "text": [
      "Enter 1st number : 3\n",
      "Enter 2nd number : 4\n",
      "The LCM of these two numbers is :  12\n"
     ]
    }
   ],
   "source": [
    "import math\n",
    "a = int(input(\"Enter 1st number : \"))\n",
    "b = int(input(\"Enter 2nd number : \"))\n",
    "print (\"The LCM of these two numbers is : \", math.lcm(a,b) )"
   ]
  },
  {
   "cell_type": "markdown",
   "id": "33651f44",
   "metadata": {},
   "source": [
    "### 2. Write a Python Program to Find HCF?\n"
   ]
  },
  {
   "cell_type": "code",
   "execution_count": 2,
   "id": "e8e36e49",
   "metadata": {},
   "outputs": [
    {
     "name": "stdout",
     "output_type": "stream",
     "text": [
      "Enter 1st number : 12\n",
      "Enter 2nd number : 190\n",
      "The gcd of these two numbers is :  2\n"
     ]
    }
   ],
   "source": [
    "import math\n",
    "a = int(input(\"Enter 1st number : \"))\n",
    "b = int(input(\"Enter 2nd number : \"))\n",
    "print (\"The gcd of these two numbers is : \", math.gcd(a,b) )"
   ]
  },
  {
   "cell_type": "markdown",
   "id": "852d42fc",
   "metadata": {},
   "source": [
    "### 3. Write a Python Program to Convert Decimal to Binary, Octal and Hexadecimal?\n"
   ]
  },
  {
   "cell_type": "code",
   "execution_count": 3,
   "id": "38cc4107",
   "metadata": {},
   "outputs": [
    {
     "name": "stdout",
     "output_type": "stream",
     "text": [
      "Enter a decimal value : 188\n",
      "Converted values:\n",
      "Binary value =  0b10111100\n",
      "Hexadecimal value =  0xbc\n",
      "Octal value =  0o274\n"
     ]
    }
   ],
   "source": [
    "num = int(input(\"Enter a decimal value : \"))\n",
    "print(\"Converted values:\")\n",
    "print(\"Binary value = \", bin(num))\n",
    "print(\"Hexadecimal value = \", hex(num))\n",
    "print(\"Octal value = \", oct(num))"
   ]
  },
  {
   "cell_type": "markdown",
   "id": "e1dd200b",
   "metadata": {},
   "source": [
    "### 4. Write a Python Program To Find ASCII value of a character?\n"
   ]
  },
  {
   "cell_type": "code",
   "execution_count": 4,
   "id": "71ce7813",
   "metadata": {},
   "outputs": [
    {
     "name": "stdout",
     "output_type": "stream",
     "text": [
      "Enter a value to check ASCII value : a\n",
      "97\n"
     ]
    }
   ],
   "source": [
    "value = input(\"Enter a value to check ASCII value : \")\n",
    "print(ord(value))"
   ]
  },
  {
   "cell_type": "markdown",
   "id": "04eca419",
   "metadata": {},
   "source": [
    "### 5. Write a Python Program to Make a Simple Calculator with 4 basic mathematical operations?"
   ]
  },
  {
   "cell_type": "code",
   "execution_count": 5,
   "id": "751997c3",
   "metadata": {},
   "outputs": [],
   "source": [
    "def calculator(a,b):\n",
    "    option = int(input(\"1. ADD ,2. SUBTRACT,3. MULTIPLY,4.DIVIDE : \"))\n",
    "    if option == 1:\n",
    "        return a+b\n",
    "    elif option ==2:\n",
    "        return a-b\n",
    "    elif option ==3:\n",
    "        return a*b\n",
    "    elif option==4:\n",
    "        return a/b\n",
    "    else :\n",
    "        return \"Wrong option\""
   ]
  },
  {
   "cell_type": "code",
   "execution_count": 6,
   "id": "8c14c170",
   "metadata": {},
   "outputs": [
    {
     "name": "stdout",
     "output_type": "stream",
     "text": [
      "1. ADD ,2. SUBTRACT,3. MULTIPLY,4.DIVIDE : 4\n"
     ]
    },
    {
     "data": {
      "text/plain": [
       "1.5"
      ]
     },
     "execution_count": 6,
     "metadata": {},
     "output_type": "execute_result"
    }
   ],
   "source": [
    "calculator(12,8)"
   ]
  },
  {
   "cell_type": "code",
   "execution_count": null,
   "id": "50604f27",
   "metadata": {},
   "outputs": [],
   "source": []
  }
 ],
 "metadata": {
  "kernelspec": {
   "display_name": "Python 3 (ipykernel)",
   "language": "python",
   "name": "python3"
  },
  "language_info": {
   "codemirror_mode": {
    "name": "ipython",
    "version": 3
   },
   "file_extension": ".py",
   "mimetype": "text/x-python",
   "name": "python",
   "nbconvert_exporter": "python",
   "pygments_lexer": "ipython3",
   "version": "3.9.7"
  }
 },
 "nbformat": 4,
 "nbformat_minor": 5
}
