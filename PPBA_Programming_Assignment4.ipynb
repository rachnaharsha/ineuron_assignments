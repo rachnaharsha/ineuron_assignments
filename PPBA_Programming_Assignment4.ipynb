{
 "cells": [
  {
   "cell_type": "markdown",
   "id": "7f56669a",
   "metadata": {},
   "source": [
    "# Python Programming Basic Assignment\n",
    "\n",
    "### 1.\tWrite a Python Program to Find the Factorial of a Number?\n",
    "\n"
   ]
  },
  {
   "cell_type": "code",
   "execution_count": 1,
   "id": "74c18776",
   "metadata": {},
   "outputs": [],
   "source": [
    "def factorial(n):\n",
    "    if n<0 :\n",
    "        return (\"Negative input, cannot calculate factorial\")\n",
    "    elif n==0:\n",
    "        return (\"Factorial is 1\")\n",
    "    else : \n",
    "        fact = 1\n",
    "        for i in range(1,n+1):\n",
    "            fact = fact * i \n",
    "        return \"Factorial is \", fact"
   ]
  },
  {
   "cell_type": "code",
   "execution_count": 2,
   "id": "750558ce",
   "metadata": {},
   "outputs": [
    {
     "data": {
      "text/plain": [
       "'Negative input, cannot calculate factorial'"
      ]
     },
     "execution_count": 2,
     "metadata": {},
     "output_type": "execute_result"
    }
   ],
   "source": [
    "factorial(-10)"
   ]
  },
  {
   "cell_type": "code",
   "execution_count": 3,
   "id": "4f003df2",
   "metadata": {},
   "outputs": [
    {
     "data": {
      "text/plain": [
       "'Factorial is 1'"
      ]
     },
     "execution_count": 3,
     "metadata": {},
     "output_type": "execute_result"
    }
   ],
   "source": [
    "factorial(0)"
   ]
  },
  {
   "cell_type": "code",
   "execution_count": 4,
   "id": "b1af6ede",
   "metadata": {},
   "outputs": [
    {
     "data": {
      "text/plain": [
       "('Factorial is ', 120)"
      ]
     },
     "execution_count": 4,
     "metadata": {},
     "output_type": "execute_result"
    }
   ],
   "source": [
    "factorial(5)"
   ]
  },
  {
   "cell_type": "markdown",
   "id": "42e1a1a2",
   "metadata": {},
   "source": [
    "### 2.\tWrite a Python Program to Display the multiplication Table?\n"
   ]
  },
  {
   "cell_type": "code",
   "execution_count": 5,
   "id": "55628544",
   "metadata": {},
   "outputs": [],
   "source": [
    "def multable(n):\n",
    "    for i in range(11):\n",
    "        print(n ,\" X \",i,\" = \",n*i)"
   ]
  },
  {
   "cell_type": "code",
   "execution_count": 6,
   "id": "a27685bf",
   "metadata": {},
   "outputs": [
    {
     "name": "stdout",
     "output_type": "stream",
     "text": [
      "25  X  0  =  0\n",
      "25  X  1  =  25\n",
      "25  X  2  =  50\n",
      "25  X  3  =  75\n",
      "25  X  4  =  100\n",
      "25  X  5  =  125\n",
      "25  X  6  =  150\n",
      "25  X  7  =  175\n",
      "25  X  8  =  200\n",
      "25  X  9  =  225\n",
      "25  X  10  =  250\n"
     ]
    }
   ],
   "source": [
    "multable(25)"
   ]
  },
  {
   "cell_type": "markdown",
   "id": "bd163161",
   "metadata": {},
   "source": [
    "### 3.\tWrite a Python Program to Print the Fibonacci sequence?\n"
   ]
  },
  {
   "cell_type": "code",
   "execution_count": 7,
   "id": "1b97d119",
   "metadata": {},
   "outputs": [],
   "source": [
    "\n",
    "def fibo(n):\n",
    "    sum = 0 \n",
    "    a = 0\n",
    "    b = 1\n",
    "    for i in range(n+1):\n",
    "        print (sum)\n",
    "        a,b = b,sum\n",
    "        sum = a +b;\n",
    "        "
   ]
  },
  {
   "cell_type": "code",
   "execution_count": 8,
   "id": "9e90f88f",
   "metadata": {},
   "outputs": [
    {
     "name": "stdout",
     "output_type": "stream",
     "text": [
      "0\n",
      "1\n",
      "1\n",
      "2\n",
      "3\n",
      "5\n",
      "8\n",
      "13\n"
     ]
    }
   ],
   "source": [
    "fibo(7)"
   ]
  },
  {
   "cell_type": "markdown",
   "id": "b1d1be47",
   "metadata": {},
   "source": [
    "### 4.\tWrite a Python Program to Check Armstrong Number?\n"
   ]
  },
  {
   "cell_type": "code",
   "execution_count": 9,
   "id": "7bd42d07",
   "metadata": {},
   "outputs": [],
   "source": [
    "def armstrong(n):\n",
    "    ans = 0\n",
    "    dup = n\n",
    "    order = len(str(n))\n",
    "    while dup>0:\n",
    "        i = dup%10\n",
    "        ans = ans +(i**order)\n",
    "        dup = dup//10\n",
    "    if ans== n:\n",
    "        return(\"Armstrong number\")\n",
    "    else:\n",
    "        return(\"Not an armstrong number\")"
   ]
  },
  {
   "cell_type": "code",
   "execution_count": 10,
   "id": "91a86120",
   "metadata": {},
   "outputs": [
    {
     "data": {
      "text/plain": [
       "'Armstrong number'"
      ]
     },
     "execution_count": 10,
     "metadata": {},
     "output_type": "execute_result"
    }
   ],
   "source": [
    "armstrong(153)"
   ]
  },
  {
   "cell_type": "markdown",
   "id": "9732da41",
   "metadata": {},
   "source": [
    "### 5.\tWrite a Python Program to Find Armstrong Number in an Interval?\n"
   ]
  },
  {
   "cell_type": "code",
   "execution_count": 11,
   "id": "306d321c",
   "metadata": {},
   "outputs": [],
   "source": [
    "def rangearmstrong(l,u):\n",
    "    lt=[]\n",
    "    for n in range(l,u+1):\n",
    "        order = len(str(n))\n",
    "        ans = 0\n",
    "        dup = n\n",
    "        while dup>0:\n",
    "            i = dup%10\n",
    "            ans = ans +(i**order)\n",
    "            dup = dup//10\n",
    "        if ans== n:\n",
    "            lt.append(n)\n",
    "    return lt"
   ]
  },
  {
   "cell_type": "code",
   "execution_count": 12,
   "id": "230943da",
   "metadata": {},
   "outputs": [
    {
     "data": {
      "text/plain": [
       "[153, 370, 371, 407, 1634, 8208, 9474, 54748, 92727, 93084]"
      ]
     },
     "execution_count": 12,
     "metadata": {},
     "output_type": "execute_result"
    }
   ],
   "source": [
    "rangearmstrong(50,100000)"
   ]
  },
  {
   "cell_type": "markdown",
   "id": "61f4b887",
   "metadata": {},
   "source": [
    "### 6.\tWrite a Python Program to Find the Sum of Natural Numbers?"
   ]
  },
  {
   "cell_type": "code",
   "execution_count": 13,
   "id": "f039ea4b",
   "metadata": {},
   "outputs": [],
   "source": [
    "def sumnatural(n):\n",
    "    if n<1:\n",
    "        print(\"Natural numbers begin from 1 , please enter a valid input\")\n",
    "    else : \n",
    "        ans = 0\n",
    "        for i in range(n+1):\n",
    "            ans+=i \n",
    "        return \"SUM of numbers upto \",n, \" is \", ans \n"
   ]
  },
  {
   "cell_type": "code",
   "execution_count": 14,
   "id": "5c57ec69",
   "metadata": {},
   "outputs": [
    {
     "data": {
      "text/plain": [
       "('SUM of numbers upto ', 10, ' is ', 55)"
      ]
     },
     "execution_count": 14,
     "metadata": {},
     "output_type": "execute_result"
    }
   ],
   "source": [
    "sumnatural(10)"
   ]
  },
  {
   "cell_type": "code",
   "execution_count": null,
   "id": "048e59cd",
   "metadata": {},
   "outputs": [],
   "source": []
  }
 ],
 "metadata": {
  "kernelspec": {
   "display_name": "Python 3 (ipykernel)",
   "language": "python",
   "name": "python3"
  },
  "language_info": {
   "codemirror_mode": {
    "name": "ipython",
    "version": 3
   },
   "file_extension": ".py",
   "mimetype": "text/x-python",
   "name": "python",
   "nbconvert_exporter": "python",
   "pygments_lexer": "ipython3",
   "version": "3.9.7"
  }
 },
 "nbformat": 4,
 "nbformat_minor": 5
}
