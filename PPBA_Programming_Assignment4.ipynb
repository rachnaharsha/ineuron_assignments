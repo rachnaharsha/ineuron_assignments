{
 "cells": [
  {
   "cell_type": "markdown",
   "id": "7f56669a",
   "metadata": {},
   "source": [
    "# Python Programming Basic Assignment\n",
    "\n",
    "### 1.\tWrite a Python Program to Find the Factorial of a Number?\n",
    "\n"
   ]
  },
  {
   "cell_type": "code",
   "execution_count": null,
   "id": "74c18776",
   "metadata": {},
   "outputs": [],
   "source": [
    "def factorial(n):\n",
    "    if n<0 :\n",
    "        return (\"Negative input, cannot calculate factorial\")\n",
    "    elif n==0:\n",
    "        return (\"Factorial is 1\")\n",
    "    else : \n",
    "        fact = 1\n",
    "        for i in range(1,n+1):\n",
    "            fact = fact * i \n",
    "        return \"Factorial is \", fact"
   ]
  },
  {
   "cell_type": "code",
   "execution_count": null,
   "id": "3159765d",
   "metadata": {},
   "outputs": [],
   "source": [
    "factorial(-10)"
   ]
  },
  {
   "cell_type": "code",
   "execution_count": null,
   "id": "2ae9a8f5",
   "metadata": {},
   "outputs": [],
   "source": [
    "factorial(0)"
   ]
  },
  {
   "cell_type": "code",
   "execution_count": null,
   "id": "2b5a1518",
   "metadata": {},
   "outputs": [],
   "source": [
    "factorial(5)"
   ]
  },
  {
   "cell_type": "markdown",
   "id": "fd6ae299",
   "metadata": {},
   "source": [
    "### 2.\tWrite a Python Program to Display the multiplication Table?\n"
   ]
  },
  {
   "cell_type": "code",
   "execution_count": null,
   "id": "55628544",
   "metadata": {},
   "outputs": [],
   "source": [
    "def multable(n):\n",
    "    for i in range(11):\n",
    "        print(n ,\" X \",i,\" = \",n*i)"
   ]
  },
  {
   "cell_type": "code",
   "execution_count": null,
   "id": "656cfa55",
   "metadata": {},
   "outputs": [],
   "source": [
    "multable(25)"
   ]
  },
  {
   "cell_type": "markdown",
   "id": "5cba9d63",
   "metadata": {},
   "source": [
    "### 3.\tWrite a Python Program to Print the Fibonacci sequence?\n"
   ]
  },
  {
   "cell_type": "code",
   "execution_count": null,
   "id": "1b97d119",
   "metadata": {},
   "outputs": [],
   "source": [
    "\n",
    "def fibo(n):\n",
    "    sum = 0 \n",
    "    a = 0\n",
    "    b = 1\n",
    "    for i in range(n+1):\n",
    "        print (sum)\n",
    "        a,b = b,sum\n",
    "        sum = a +b;\n",
    "        "
   ]
  },
  {
   "cell_type": "code",
   "execution_count": null,
   "id": "0a13b168",
   "metadata": {},
   "outputs": [],
   "source": [
    "fibo(7)"
   ]
  },
  {
   "cell_type": "markdown",
   "id": "5f90b68b",
   "metadata": {},
   "source": [
    "### 4.\tWrite a Python Program to Check Armstrong Number?\n"
   ]
  },
  {
   "cell_type": "code",
   "execution_count": 47,
   "id": "7bd42d07",
   "metadata": {},
   "outputs": [],
   "source": [
    "def armstrong(n):\n",
    "    ans = 0\n",
    "    dup = n\n",
    "    order = len(str(n))\n",
    "    while dup>0:\n",
    "        i = dup%10\n",
    "        ans = ans +(i**order)\n",
    "        dup = dup//10\n",
    "    if ans== n:\n",
    "        return(\"Armstrong number\")\n",
    "    else:\n",
    "        return(\"Not an armstrong number\")"
   ]
  },
  {
   "cell_type": "code",
   "execution_count": 53,
   "id": "3959d9a9",
   "metadata": {},
   "outputs": [
    {
     "data": {
      "text/plain": [
       "'Armstrong number'"
      ]
     },
     "execution_count": 53,
     "metadata": {},
     "output_type": "execute_result"
    }
   ],
   "source": [
    "armstrong(153)"
   ]
  },
  {
   "cell_type": "markdown",
   "id": "7c5429dc",
   "metadata": {},
   "source": [
    "### 5.\tWrite a Python Program to Find Armstrong Number in an Interval?\n"
   ]
  },
  {
   "cell_type": "code",
   "execution_count": 38,
   "id": "306d321c",
   "metadata": {},
   "outputs": [],
   "source": [
    "def rangearmstrong(l,u):\n",
    "    lt=[]\n",
    "    for n in range(l,u+1):\n",
    "        order = len(str(n))\n",
    "        ans = 0\n",
    "        dup = n\n",
    "        while dup>0:\n",
    "            i = dup%10\n",
    "            ans = ans +(i**order)\n",
    "            dup = dup//10\n",
    "        if ans== n:\n",
    "            lt.append(n)\n",
    "    return lt"
   ]
  },
  {
   "cell_type": "code",
   "execution_count": 54,
   "id": "dbd8c14f",
   "metadata": {},
   "outputs": [
    {
     "data": {
      "text/plain": [
       "[153, 370, 371, 407, 1634, 8208, 9474, 54748, 92727, 93084]"
      ]
     },
     "execution_count": 54,
     "metadata": {},
     "output_type": "execute_result"
    }
   ],
   "source": [
    "rangearmstrong(50,100000)"
   ]
  },
  {
   "cell_type": "markdown",
   "id": "152990e1",
   "metadata": {},
   "source": [
    "### 6.\tWrite a Python Program to Find the Sum of Natural Numbers?"
   ]
  },
  {
   "cell_type": "code",
   "execution_count": 58,
   "id": "f039ea4b",
   "metadata": {},
   "outputs": [],
   "source": [
    "def sumnatural(n):\n",
    "    if n<1:\n",
    "        print(\"Natural numbers begin from 1 , please enter a valid input\")\n",
    "    else : \n",
    "        ans = 0\n",
    "        for i in range(n+1):\n",
    "            ans+=i \n",
    "        return \"SUM of numbers upto \",n, \" is \", ans \n"
   ]
  },
  {
   "cell_type": "code",
   "execution_count": 59,
   "id": "7f6f7eef",
   "metadata": {},
   "outputs": [
    {
     "data": {
      "text/plain": [
       "('SUM of numbers upto ', 10, ' is ', 55)"
      ]
     },
     "execution_count": 59,
     "metadata": {},
     "output_type": "execute_result"
    }
   ],
   "source": [
    "sumnatural(10)"
   ]
  },
  {
   "cell_type": "code",
   "execution_count": null,
   "id": "1e4872af",
   "metadata": {},
   "outputs": [],
   "source": []
  }
 ],
 "metadata": {
  "kernelspec": {
   "display_name": "Python 3 (ipykernel)",
   "language": "python",
   "name": "python3"
  },
  "language_info": {
   "codemirror_mode": {
    "name": "ipython",
    "version": 3
   },
   "file_extension": ".py",
   "mimetype": "text/x-python",
   "name": "python",
   "nbconvert_exporter": "python",
   "pygments_lexer": "ipython3",
   "version": "3.9.7"
  }
 },
 "nbformat": 4,
 "nbformat_minor": 5
}
