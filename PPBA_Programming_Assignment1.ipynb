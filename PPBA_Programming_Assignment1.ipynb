{
 "cells": [
  {
   "cell_type": "markdown",
   "id": "b1114330",
   "metadata": {},
   "source": [
    "# Python Programming Basic Assignment \n",
    "\n",
    "### 1. Write a Python program to print \"Hello Python\"?"
   ]
  },
  {
   "cell_type": "code",
   "execution_count": 1,
   "id": "c72822a4",
   "metadata": {},
   "outputs": [
    {
     "name": "stdout",
     "output_type": "stream",
     "text": [
      "Hello Python\n"
     ]
    }
   ],
   "source": [
    "print(\"Hello Python\")"
   ]
  },
  {
   "cell_type": "markdown",
   "id": "ae0ab0d2",
   "metadata": {},
   "source": [
    "### 2.\tWrite a Python program to do arithmetical operations addition and division.?"
   ]
  },
  {
   "cell_type": "code",
   "execution_count": 2,
   "id": "153325fe",
   "metadata": {},
   "outputs": [
    {
     "name": "stdout",
     "output_type": "stream",
     "text": [
      "a = 12\n",
      "b = 6\n",
      "Sum =  18\n",
      "Quotient =  2.0\n"
     ]
    }
   ],
   "source": [
    "a=int(input(\"a = \"))\n",
    "b=int(input(\"b = \"))\n",
    "print (\"Sum = \", a+b)\n",
    "print(\"Quotient = \", a/b)"
   ]
  },
  {
   "cell_type": "markdown",
   "id": "4057c42f",
   "metadata": {},
   "source": [
    "### 3. Write a Python program to find the area of a triangle?"
   ]
  },
  {
   "cell_type": "code",
   "execution_count": 3,
   "id": "a1c86f92",
   "metadata": {},
   "outputs": [
    {
     "name": "stdout",
     "output_type": "stream",
     "text": [
      "Enter the length of base = 12\n",
      "Enter the length of height = 5\n",
      "Area of the triangle =  30.0\n"
     ]
    }
   ],
   "source": [
    "b=int(input(\"Enter the length of base = \"))\n",
    "h = int(input(\"Enter the length of height = \"))\n",
    "area = 0.5 * b* h\n",
    "print(\"Area of the triangle = \", area)"
   ]
  },
  {
   "cell_type": "markdown",
   "id": "8f703a66",
   "metadata": {},
   "source": [
    "### 4. Write a Python program to swap two variables?"
   ]
  },
  {
   "cell_type": "code",
   "execution_count": 4,
   "id": "720613fb",
   "metadata": {},
   "outputs": [
    {
     "name": "stdout",
     "output_type": "stream",
     "text": [
      "a = 12\n",
      "b = 6\n",
      "After swapping, a =  6 and b =  12\n"
     ]
    }
   ],
   "source": [
    "a=input(\"a = \")\n",
    "b=input(\"b = \")\n",
    "a,b = b,a\n",
    "print(\"After swapping, a = \", a , \"and b = \" ,b )"
   ]
  },
  {
   "cell_type": "markdown",
   "id": "bda3eefd",
   "metadata": {},
   "source": [
    "### 5. Write a Python program to generate a random number?"
   ]
  },
  {
   "cell_type": "code",
   "execution_count": 9,
   "id": "60b54f19",
   "metadata": {},
   "outputs": [
    {
     "name": "stdout",
     "output_type": "stream",
     "text": [
      "Generated random number =  92\n"
     ]
    }
   ],
   "source": [
    "import random\n",
    "print(\"Generated random number = \", random.randint(0,100))"
   ]
  },
  {
   "cell_type": "code",
   "execution_count": null,
   "id": "43d2e1d2",
   "metadata": {},
   "outputs": [],
   "source": []
  }
 ],
 "metadata": {
  "kernelspec": {
   "display_name": "Python 3 (ipykernel)",
   "language": "python",
   "name": "python3"
  },
  "language_info": {
   "codemirror_mode": {
    "name": "ipython",
    "version": 3
   },
   "file_extension": ".py",
   "mimetype": "text/x-python",
   "name": "python",
   "nbconvert_exporter": "python",
   "pygments_lexer": "ipython3",
   "version": "3.9.7"
  }
 },
 "nbformat": 4,
 "nbformat_minor": 5
}
